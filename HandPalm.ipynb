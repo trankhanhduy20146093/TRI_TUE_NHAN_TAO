{
  "nbformat": 4,
  "nbformat_minor": 0,
  "metadata": {
    "colab": {
      "provenance": [],
      "authorship_tag": "ABX9TyMsG3Cs7VU9rhh8pTXfrlCf",
      "include_colab_link": true
    },
    "kernelspec": {
      "name": "python3",
      "display_name": "Python 3"
    },
    "language_info": {
      "name": "python"
    },
    "accelerator": "GPU",
    "gpuClass": "standard"
  },
  "cells": [
    {
      "cell_type": "markdown",
      "metadata": {
        "id": "view-in-github",
        "colab_type": "text"
      },
      "source": [
        "<a href=\"https://colab.research.google.com/github/trankhanhduy20146093/TRI_TUE_NHAN_TAO/blob/main/HandPalm.ipynb\" target=\"_parent\"><img src=\"https://colab.research.google.com/assets/colab-badge.svg\" alt=\"Open In Colab\"/></a>"
      ]
    },
    {
      "cell_type": "code",
      "execution_count": 19,
      "metadata": {
        "id": "6ca6MxilT7jQ"
      },
      "outputs": [],
      "source": [
        "#Khai báo các thư viện cần sử dụng\n",
        "from os import listdir\n",
        "from numpy import asarray\n",
        "from numpy import save\n",
        "from keras.utils.image_utils import img_to_array\n",
        "from keras.utils import load_img"
      ]
    },
    {
      "cell_type": "code",
      "source": [
        "#Kết nối Colab với Drive\n",
        "from google.colab import drive\n",
        "drive.mount('/content/drive')"
      ],
      "metadata": {
        "id": "ypI15BZrbCKZ",
        "colab": {
          "base_uri": "https://localhost:8080/"
        },
        "outputId": "20c2bf8f-43b4-4106-9d20-01f96299ef17"
      },
      "execution_count": 20,
      "outputs": [
        {
          "output_type": "stream",
          "name": "stdout",
          "text": [
            "Drive already mounted at /content/drive; to attempt to forcibly remount, call drive.mount(\"/content/drive\", force_remount=True).\n"
          ]
        }
      ]
    },
    {
      "cell_type": "code",
      "source": [
        "folder='/content/drive/MyDrive/TRI_TUE_NHAN_TAO/HAND_PALM/'"
      ],
      "metadata": {
        "id": "P1CzXcQ1bNss"
      },
      "execution_count": 21,
      "outputs": []
    },
    {
      "cell_type": "code",
      "source": [
        "photos,labels = list(),list()\n",
        "output = 0.0\n",
        "for file in listdir(folder):\n",
        "      if file.startswith('0'):\n",
        "        output=0.0\n",
        "      if file.startswith('1'):\n",
        "        output=1.0\n",
        "      if file.startswith('2'):\n",
        "        output=2.0\n",
        "      if file.startswith('3'):\n",
        "        output=3.0\n",
        "      if file.startswith('4'):\n",
        "        output=4.0\n",
        "      if file.startswith('5'):\n",
        "        output=5.0\n",
        "      if file.startswith('6'):\n",
        "        output=6.0\n",
        "\n",
        "      photo = load_img(folder+file,target_size=(50,50))\n",
        "      photo = img_to_array(photo)\n",
        "      photos.append(photo)\n",
        "      labels.append(output)"
      ],
      "metadata": {
        "id": "PfigePkIb0AF"
      },
      "execution_count": 22,
      "outputs": []
    },
    {
      "cell_type": "code",
      "source": [
        "photos = asarray(photos)\n",
        "labels = asarray(labels)\n",
        "save('/content/drive/MyDrive/TRI_TUE_NHAN_TAO/photo_hand_palm.npy',photos)\n",
        "save('/content/drive/MyDrive/TRI_TUE_NHAN_TAO/label_hand_palm.npy',labels)\n",
        "#Kiểm tra kích thước\n",
        "print(\"kich thuoc photos\",photos.shape)\n",
        "print(\"kich thuoc labels\",labels.shape)"
      ],
      "metadata": {
        "id": "21ZbHWnddPgF",
        "colab": {
          "base_uri": "https://localhost:8080/"
        },
        "outputId": "55766d00-8d98-4052-a242-15e853bd9540"
      },
      "execution_count": 23,
      "outputs": [
        {
          "output_type": "stream",
          "name": "stdout",
          "text": [
            "kich thuoc photos (313, 50, 50, 3)\n",
            "kich thuoc labels (313,)\n"
          ]
        }
      ]
    },
    {
      "cell_type": "code",
      "source": [
        "from sklearn.model_selection import train_test_split\n",
        "\n",
        "train_x, test_x, train_y,  test_y = train_test_split(photos,labels, test_size=0.2, train_size=0.8)\n",
        "#Kiểm tra kích thước\n",
        "print(\"kich thuoc train_x\",train_x.shape)\n",
        "print(\"kich thuoc test_x\",test_x.shape)"
      ],
      "metadata": {
        "id": "Ui2P35CkdnJo",
        "colab": {
          "base_uri": "https://localhost:8080/"
        },
        "outputId": "469ee772-c201-4ad8-95cf-73b0f599e05c"
      },
      "execution_count": 24,
      "outputs": [
        {
          "output_type": "stream",
          "name": "stdout",
          "text": [
            "kich thuoc train_x (250, 50, 50, 3)\n",
            "kich thuoc test_x (63, 50, 50, 3)\n"
          ]
        }
      ]
    },
    {
      "cell_type": "code",
      "source": [
        "#Scale lại data\n",
        "train_x = train_x.astype('float32')\n",
        "train_x = train_x/255\n",
        "     \n",
        "test_x = test_x.astype('float32')\n",
        "test_x = test_x/255"
      ],
      "metadata": {
        "id": "O87WcxA7fa70"
      },
      "execution_count": 25,
      "outputs": []
    },
    {
      "cell_type": "code",
      "source": [
        "from keras.utils import to_categorical\n",
        "train_labels = to_categorical(train_y)\n",
        "test_labels = to_categorical(test_y)"
      ],
      "metadata": {
        "id": "ahFIUrhofm5_"
      },
      "execution_count": 26,
      "outputs": []
    },
    {
      "cell_type": "code",
      "source": [
        "#Kiểm tra kích thước\n",
        "print(\"kich thuoc train_x\",train_x.shape)\n",
        "print(\"kich thuoc train_labels\",train_labels.shape)"
      ],
      "metadata": {
        "id": "qw4DOGnXfxXU",
        "colab": {
          "base_uri": "https://localhost:8080/"
        },
        "outputId": "369ea60c-7c53-4c02-f137-d8671457a061"
      },
      "execution_count": 27,
      "outputs": [
        {
          "output_type": "stream",
          "name": "stdout",
          "text": [
            "kich thuoc train_x (250, 50, 50, 3)\n",
            "kich thuoc train_labels (250, 7)\n"
          ]
        }
      ]
    },
    {
      "cell_type": "code",
      "source": [
        "from keras import Sequential,Model,Input\n",
        "from keras.layers import Dense,Flatten,Dropout, Conv2D, MaxPooling2D,Normalization\n",
        "from keras.optimizers import Adam\n",
        "\n",
        "model = Sequential()\n",
        "model.add(Conv2D(32,kernel_size=(3,3),activation='linear',input_shape=(50,50,3),padding='same'))\n",
        "     \n",
        "from keras.layers import LeakyReLU\n",
        "model.add(LeakyReLU(alpha=0.1))\n",
        "model.add(MaxPooling2D((2,2),padding='same'))\n",
        "\n",
        "model.add(Conv2D(64,(3,3),activation='linear',padding='same'))\n",
        "model.add(LeakyReLU(alpha=0.1))\n",
        "model.add(MaxPooling2D((2,2),padding='same'))\n",
        "\n",
        "model.add(Conv2D(128,(3,3),activation='linear',padding='same'))\n",
        "model.add(LeakyReLU(alpha=0.1))\n",
        "model.add(MaxPooling2D((2,2),padding='same'))"
      ],
      "metadata": {
        "id": "1Qm-IbvfhGtH"
      },
      "execution_count": 28,
      "outputs": []
    },
    {
      "cell_type": "code",
      "source": [
        "classes = 7\n",
        "\n",
        "model.add(Flatten())\n",
        "     \n",
        "model.add(Dense(700,activation='linear'))\n",
        "model.add(Dropout(0.5))\n",
        "model.add(Dense(classes,activation='softmax'))"
      ],
      "metadata": {
        "id": "dO19HzZ3hdWp"
      },
      "execution_count": 29,
      "outputs": []
    },
    {
      "cell_type": "code",
      "source": [
        "model.summary()"
      ],
      "metadata": {
        "id": "eX8qnfS6hvf_",
        "colab": {
          "base_uri": "https://localhost:8080/"
        },
        "outputId": "3c7a24c7-4a94-4a92-f781-f89570e8ea15"
      },
      "execution_count": 30,
      "outputs": [
        {
          "output_type": "stream",
          "name": "stdout",
          "text": [
            "Model: \"sequential_1\"\n",
            "_________________________________________________________________\n",
            " Layer (type)                Output Shape              Param #   \n",
            "=================================================================\n",
            " conv2d_3 (Conv2D)           (None, 50, 50, 32)        896       \n",
            "                                                                 \n",
            " leaky_re_lu_3 (LeakyReLU)   (None, 50, 50, 32)        0         \n",
            "                                                                 \n",
            " max_pooling2d_3 (MaxPooling  (None, 25, 25, 32)       0         \n",
            " 2D)                                                             \n",
            "                                                                 \n",
            " conv2d_4 (Conv2D)           (None, 25, 25, 64)        18496     \n",
            "                                                                 \n",
            " leaky_re_lu_4 (LeakyReLU)   (None, 25, 25, 64)        0         \n",
            "                                                                 \n",
            " max_pooling2d_4 (MaxPooling  (None, 13, 13, 64)       0         \n",
            " 2D)                                                             \n",
            "                                                                 \n",
            " conv2d_5 (Conv2D)           (None, 13, 13, 128)       73856     \n",
            "                                                                 \n",
            " leaky_re_lu_5 (LeakyReLU)   (None, 13, 13, 128)       0         \n",
            "                                                                 \n",
            " max_pooling2d_5 (MaxPooling  (None, 7, 7, 128)        0         \n",
            " 2D)                                                             \n",
            "                                                                 \n",
            " flatten_1 (Flatten)         (None, 6272)              0         \n",
            "                                                                 \n",
            " dense_2 (Dense)             (None, 700)               4391100   \n",
            "                                                                 \n",
            " dropout_1 (Dropout)         (None, 700)               0         \n",
            "                                                                 \n",
            " dense_3 (Dense)             (None, 7)                 4907      \n",
            "                                                                 \n",
            "=================================================================\n",
            "Total params: 4,489,255\n",
            "Trainable params: 4,489,255\n",
            "Non-trainable params: 0\n",
            "_________________________________________________________________\n"
          ]
        }
      ]
    },
    {
      "cell_type": "code",
      "source": [
        "from keras.backend import categorical_crossentropy\n",
        "model.compile(loss='categorical_crossentropy', optimizer=Adam(),metrics =['accuracy'])\n",
        "\n",
        "batch_size = 64\n",
        "epochs = 10\n",
        "\n",
        "train = model.fit(train_x,train_labels,batch_size, epochs,verbose=1)\n",
        "test_loss, test_acc = model.evaluate(test_x, test_labels)\n",
        "print(\"Accuracy:\", test_acc)\n",
        "print('Loss:', test_loss)"
      ],
      "metadata": {
        "id": "JbGg0UrlhyrJ",
        "colab": {
          "base_uri": "https://localhost:8080/"
        },
        "outputId": "ce20901f-06bd-4c25-de62-e4f372ae62bb"
      },
      "execution_count": 44,
      "outputs": [
        {
          "output_type": "stream",
          "name": "stdout",
          "text": [
            "Epoch 1/10\n",
            "4/4 [==============================] - 1s 14ms/step - loss: 0.2617 - accuracy: 0.9240\n",
            "Epoch 2/10\n",
            "4/4 [==============================] - 0s 13ms/step - loss: 0.2945 - accuracy: 0.9200\n",
            "Epoch 3/10\n",
            "4/4 [==============================] - 0s 13ms/step - loss: 0.0456 - accuracy: 0.9840\n",
            "Epoch 4/10\n",
            "4/4 [==============================] - 0s 12ms/step - loss: 0.0891 - accuracy: 0.9560\n",
            "Epoch 5/10\n",
            "4/4 [==============================] - 0s 12ms/step - loss: 0.0093 - accuracy: 1.0000\n",
            "Epoch 6/10\n",
            "4/4 [==============================] - 0s 13ms/step - loss: 0.0272 - accuracy: 0.9920\n",
            "Epoch 7/10\n",
            "4/4 [==============================] - 0s 12ms/step - loss: 0.0041 - accuracy: 1.0000\n",
            "Epoch 8/10\n",
            "4/4 [==============================] - 0s 11ms/step - loss: 0.0090 - accuracy: 1.0000\n",
            "Epoch 9/10\n",
            "4/4 [==============================] - 0s 12ms/step - loss: 0.0015 - accuracy: 1.0000\n",
            "Epoch 10/10\n",
            "4/4 [==============================] - 0s 11ms/step - loss: 0.0021 - accuracy: 1.0000\n",
            "2/2 [==============================] - 0s 10ms/step - loss: 0.0338 - accuracy: 0.9841\n",
            "Accuracy: 0.9841269850730896\n",
            "Loss: 0.033818311989307404\n"
          ]
        }
      ]
    },
    {
      "cell_type": "code",
      "source": [
        "model.save('/content/drive/MyDrive/TRI_TUE_NHAN_TAO/hand_palm.h5')\n"
      ],
      "metadata": {
        "id": "w3w21UJdk0pI"
      },
      "execution_count": 45,
      "outputs": []
    },
    {
      "cell_type": "code",
      "source": [
        "#test mo hinh\n",
        "\n",
        "import matplotlib.pyplot as plt\n",
        "from keras.utils import load_img\n",
        "from keras.utils.image_utils import img_to_array\n",
        "import numpy as np\n",
        "\n",
        "labels = ['hết lòng trong tình cảm, có suy nghĩ rõ ràng khá tập trung, có một sức khỏe dồi dào', \n",
        "          'khỏe mạnh, có tính sáng tạo, tự do bộc lộ cảm xúc',\n",
        "          'chung thủy, suy nghĩ rõ ràng và khá tập trung, có sức bền tốt',\n",
        "          'hơi ích kỷ trong tình cảm, yêu thích những gì mình làm ra, tràn trề năng lượng',\n",
        "          'có sức khỏe tốt, có đam mê với cuộc sống, dễ rung động trong tình cảm',\n",
        "          'ít quan tâm tới tình yêu, tự do trong cuộc sống, hay đưa ra các quyết định quan trọng',\n",
        "          'khó tập trung trong công việc, thuận lợi trong tình cảm, tràn trề sức sống']\n",
        "\n",
        "img = load_img('/content/drive/My Drive/IMAGES/Hand_Palm.jpg', target_size = (50,50))\n",
        "plt.imshow(img)\n",
        "#Chuyển ảnh sang mảng\n",
        "img = img_to_array(img)\n",
        "img = img.reshape(1, 50,50,3)\n",
        "img = img.astype('float32')\n",
        "img = img /255 # Chuyển về [0, 1]\n",
        "\n",
        "predict_label = labels[np.argmax(model.predict(img))]\n",
        "print('Chỉ tay cho thấy bạn là người {}'.format(predict_label))"
      ],
      "metadata": {
        "id": "5rNldEuFnIhP",
        "colab": {
          "base_uri": "https://localhost:8080/",
          "height": 467
        },
        "outputId": "71749eec-b3a8-4f9d-d314-6573c45926fe"
      },
      "execution_count": 46,
      "outputs": [
        {
          "output_type": "stream",
          "name": "stdout",
          "text": [
            "1/1 [==============================] - 0s 75ms/step\n",
            "Chỉ tay cho thấy bạn là người khó tập trung trong công việc, thuận lợi trong tình cảm, tràn trề sức sống\n"
          ]
        },
        {
          "output_type": "display_data",
          "data": {
            "text/plain": [
              "<Figure size 640x480 with 1 Axes>"
            ],
            "image/png": "[encoded data removed]"
          },
          "metadata": {}
        }
      ]
    }
  ]
}